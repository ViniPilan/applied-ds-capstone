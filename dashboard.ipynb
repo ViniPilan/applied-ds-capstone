{
    "cells": [
        {
            "metadata": {
                "collapsed": true
            },
            "cell_type": "code",
            "source": "# Import required libraries\nimport pandas as pd\nimport numpy as np\nimport dash\nfrom dash import html\nfrom dash import dcc\nfrom dash.dependencies import Input, Output, State\nimport plotly.graph_objects as go\nimport plotly.express as px\nfrom dash import no_update\n\n\ndf = pd.read_csv(\"https://cf-courses-data.s3.us.cloud-object-storage.appdomain.cloud/IBM-DS0321EN-SkillsNetwork/datasets/dataset_part_2.csv\")\ndf = df[['LaunchSite', 'PayloadMass', 'Outcome', 'Class']]\n\nsites_list = list(df['LaunchSite'].unique())\nsites_list.append('All')\n\nplmass_list = df['PayloadMass'].to_list()\nplmass_list.sort()\n\n\napp = dash.Dash(__name__)\n\napp.layout = html.Div(children=[\n                                #title\n                                html.H1('Dashboard SpaceX Success Outcome',\n                                        style={'textAlign':'center', 'font-size':40, 'margin-bottom':20}),\n\n                                html.Div([\n                                    html.Div([\n\n                                        html.H2('Choose a launch site:', style={'font-size':24}),\n                                        #DropDown with Launch sites\n                                        html.Div(dcc.Dropdown(id='input-site',\n                                                                options=[{'label':i, 'value':i} for i in sites_list],\n                                                                placeholder='Select a site',\n                                                                value='All')\n                                        ),\n\n                                        #Pie plot\n                                        html.Div(dcc.Graph(id='pie_plot'))\n                                    ], style={'width':'50%'}),\n\n                                    html.Div([\n\n                                        html.H2('Choose a payload value with the following slider:', style={'font-size':24}),\n                                        #Slider with payload mass\n                                        html.Div(dcc.Slider(id='payload-slider',\n                                                            min=1000,\n                                                            max=16000,\n                                                            step=500,\n                                                            value=1000)\n                                        ),\n\n                                        html.Div(id='updatemode-output-container', style={'margin-top': 20}),\n\n                                        html.Div(dcc.Graph(id='scatter_plot'))\n                                    ], style={'width':'50%'})\n                                ], style={'display': 'flex'})\n                            ], style={'margin':'100px'}\n)\n\n\n@app.callback(Output(component_id='pie_plot', component_property='figure'),\n              Input(component_id='input-site', component_property='value')) \n\n#Callback function for pie chart\ndef pie_plot_function(site):\n\n    if site == 'All':\n        data = df['Class'].value_counts().to_frame()\n        title = 'Count of success launches for all sites'\n    else:\n        data = df.query('LaunchSite == @site')['Class'].value_counts().to_frame()\n        title = f'Count of success launches for {site} site'\n\n    data.rename(index={0:'Fail', 1:'Success'}, inplace=True)\n    pie_plot = px.pie(names=data.index, values=data['Class'], title=title)\n\n    return pie_plot\n\n\n\n@app.callback(Output(component_id='scatter_plot', component_property='figure'),\n              Input(component_id='payload-slider', component_property='value')) \n\n#Callback function for scatter chart\ndef scatter_plot_function(payload):\n    # payload = 3000\n    array = np.zeros(len(df['Class'])) + payload\n    scatter_plot = px.scatter(df, x=df['Outcome'], y=array, \n                                color=df['Class'].apply(lambda x: 'Fail' if x==0 else 'Success'),\n                                title=f'Scatter with payload = {payload}')\n    return scatter_plot\n\n\n# Run the app\nif __name__ == '__main__':\n    app.run_server(debug=True)",
            "execution_count": null,
            "outputs": []
        }
    ],
    "metadata": {
        "kernelspec": {
            "name": "python3",
            "display_name": "Python 3.8",
            "language": "python"
        },
        "language_info": {
            "name": "python",
            "version": "3.8.11",
            "mimetype": "text/x-python",
            "codemirror_mode": {
                "name": "ipython",
                "version": 3
            },
            "pygments_lexer": "ipython3",
            "nbconvert_exporter": "python",
            "file_extension": ".py"
        }
    },
    "nbformat": 4,
    "nbformat_minor": 1
}